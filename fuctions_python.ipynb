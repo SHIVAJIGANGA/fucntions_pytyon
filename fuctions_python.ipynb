{
 "cells": [
  {
   "cell_type": "code",
   "execution_count": 1,
   "metadata": {},
   "outputs": [],
   "source": [
    "def max_num():\n",
    "    i = 2\n",
    "    while i <4:\n",
    "        print(i)\n",
    "        i += 1\n",
    "        \n",
    "    max_num()"
   ]
  },
  {
   "cell_type": "code",
   "execution_count": 11,
   "metadata": {},
   "outputs": [
    {
     "data": {
      "text/plain": [
       "'a is bigger than b'"
      ]
     },
     "execution_count": 11,
     "metadata": {},
     "output_type": "execute_result"
    }
   ],
   "source": [
    "def max_num(a,b):\n",
    "    if(a>b):\n",
    "        return \"a is bigger than b\"\n",
    "    else:\n",
    "        return \"b is less than a\"\n",
    "\n",
    "max_num(6,4)"
   ]
  },
  {
   "cell_type": "code",
   "execution_count": 6,
   "metadata": {},
   "outputs": [
    {
     "data": {
      "text/plain": [
       "'c is smaller than all'"
      ]
     },
     "execution_count": 6,
     "metadata": {},
     "output_type": "execute_result"
    }
   ],
   "source": [
    "def max_num(a,b,c):\n",
    "    if a>b and b<c:\n",
    "        return \" a is greterthan b\"\n",
    "    elif b<a and b<c:\n",
    "        return \" b is greater than c\"\n",
    "    else:\n",
    "        return \"c is smaller than all\"\n",
    "    \n",
    "    \n",
    "    \n",
    "max_num(20,10,3)"
   ]
  },
  {
   "cell_type": "code",
   "execution_count": 7,
   "metadata": {},
   "outputs": [
    {
     "name": "stdout",
     "output_type": "stream",
     "text": [
      "9\n"
     ]
    }
   ],
   "source": [
    "def sum_num(x,y,z):\n",
    "    print(x+y+z)\n",
    "    \n",
    "sum_num(3,3,3)"
   ]
  },
  {
   "cell_type": "code",
   "execution_count": 19,
   "metadata": {},
   "outputs": [
    {
     "data": {
      "text/plain": [
       "9"
      ]
     },
     "execution_count": 19,
     "metadata": {},
     "output_type": "execute_result"
    }
   ],
   "source": [
    "def max_num(x):\n",
    "    return 3*x\n",
    "    print(max_sum(4))\n",
    "\n",
    "max_num(3)\n",
    "    \n",
    "    "
   ]
  },
  {
   "cell_type": "code",
   "execution_count": 21,
   "metadata": {},
   "outputs": [
    {
     "name": "stdout",
     "output_type": "stream",
     "text": [
      "4\n",
      "5\n",
      "6\n"
     ]
    }
   ],
   "source": [
    "def max_num():\n",
    "    i = 4\n",
    "    while i < 7:\n",
    "        print(i)\n",
    "        i += 1\n",
    "        \n",
    "max_num()"
   ]
  },
  {
   "cell_type": "code",
   "execution_count": 25,
   "metadata": {},
   "outputs": [
    {
     "data": {
      "text/plain": [
       "20"
      ]
     },
     "execution_count": 25,
     "metadata": {},
     "output_type": "execute_result"
    }
   ],
   "source": [
    "def sum_list():\n",
    "    samplelist = (8,3,2,0,7)\n",
    "    return(sum(samplelist))\n",
    "    \n",
    "sum_list()"
   ]
  },
  {
   "cell_type": "code",
   "execution_count": null,
   "metadata": {},
   "outputs": [],
   "source": []
  }
 ],
 "metadata": {
  "kernelspec": {
   "display_name": "Python 3",
   "language": "python",
   "name": "python3"
  },
  "language_info": {
   "codemirror_mode": {
    "name": "ipython",
    "version": 3
   },
   "file_extension": ".py",
   "mimetype": "text/x-python",
   "name": "python",
   "nbconvert_exporter": "python",
   "pygments_lexer": "ipython3",
   "version": "3.7.0"
  }
 },
 "nbformat": 4,
 "nbformat_minor": 2
}
